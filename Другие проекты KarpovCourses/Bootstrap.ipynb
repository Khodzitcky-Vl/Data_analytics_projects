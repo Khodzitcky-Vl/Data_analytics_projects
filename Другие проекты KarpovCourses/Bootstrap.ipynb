{
 "cells": [
  {
   "cell_type": "markdown",
   "metadata": {},
   "source": [
    "## Bootstrap and t-test project\n",
    "\n",
    "Имеется таблица с результатами A/B-теста. В числовой колонке показаны значения выручки по каждому пользователю за период эксперимента.\n",
    "\n",
    "Описание колонок: \n",
    "- *value* – значения метрики\n",
    "- *experimentVariant* – вариант теста (Control – контроль, Treatment – тест)"
   ]
  },
  {
   "cell_type": "markdown",
   "metadata": {},
   "source": [
    "**Задача:**  выяснить стали ли мы больше зарабатывать с пользователя или нет; понять какой статистический тест лучше применять на имеющихся данных - t-тест, U-тест, бутстрап средних"
   ]
  },
  {
   "cell_type": "code",
   "execution_count": 1,
   "metadata": {},
   "outputs": [],
   "source": [
    "# Импортируем необходимые библиотеки\n",
    "import pandas as pd\n",
    "import numpy as np \n",
    "import scipy.stats as ss\n",
    "import statsmodels.api as sm\n",
    "from scipy.stats import norm\n",
    "\n",
    "import matplotlib.pyplot as plt\n",
    "import seaborn as sns\n",
    "\n",
    "from tqdm.auto import tqdm\n",
    "\n",
    "%matplotlib inline"
   ]
  },
  {
   "cell_type": "code",
   "execution_count": 2,
   "metadata": {},
   "outputs": [],
   "source": [
    "# Настроим отображение графиков\n",
    "sns.set_theme(font_scale = 1, \n",
    "              style = 'whitegrid', \n",
    "              rc = {'figure.figsize': (10, 5)}\n",
    ")"
   ]
  },
  {
   "cell_type": "code",
   "execution_count": 3,
   "metadata": {},
   "outputs": [
    {
     "data": {
      "text/html": [
       "<div>\n",
       "<style scoped>\n",
       "    .dataframe tbody tr th:only-of-type {\n",
       "        vertical-align: middle;\n",
       "    }\n",
       "\n",
       "    .dataframe tbody tr th {\n",
       "        vertical-align: top;\n",
       "    }\n",
       "\n",
       "    .dataframe thead th {\n",
       "        text-align: right;\n",
       "    }\n",
       "</style>\n",
       "<table border=\"1\" class=\"dataframe\">\n",
       "  <thead>\n",
       "    <tr style=\"text-align: right;\">\n",
       "      <th></th>\n",
       "      <th>value</th>\n",
       "      <th>experimentVariant</th>\n",
       "    </tr>\n",
       "  </thead>\n",
       "  <tbody>\n",
       "    <tr>\n",
       "      <th>1</th>\n",
       "      <td>10,3804953740268</td>\n",
       "      <td>Control</td>\n",
       "    </tr>\n",
       "    <tr>\n",
       "      <th>2</th>\n",
       "      <td>9,54686666784264</td>\n",
       "      <td>Control</td>\n",
       "    </tr>\n",
       "    <tr>\n",
       "      <th>3</th>\n",
       "      <td>11,0882146509904</td>\n",
       "      <td>Control</td>\n",
       "    </tr>\n",
       "    <tr>\n",
       "      <th>4</th>\n",
       "      <td>10,1472740570122</td>\n",
       "      <td>Control</td>\n",
       "    </tr>\n",
       "    <tr>\n",
       "      <th>5</th>\n",
       "      <td>9,78980767524929</td>\n",
       "      <td>Control</td>\n",
       "    </tr>\n",
       "  </tbody>\n",
       "</table>\n",
       "</div>"
      ],
      "text/plain": [
       "              value experimentVariant\n",
       "1  10,3804953740268           Control\n",
       "2  9,54686666784264           Control\n",
       "3  11,0882146509904           Control\n",
       "4  10,1472740570122           Control\n",
       "5  9,78980767524929           Control"
      ]
     },
     "execution_count": 3,
     "metadata": {},
     "output_type": "execute_result"
    }
   ],
   "source": [
    "# Загрузим данные с ЯндексДиска\n",
    "url = 'https://disk.yandex.ru/d/FPMcY4_9kTUpNg'\n",
    "data = pd.read_csv(f'https://getfile.dokpub.com/yandex/get/{url}', sep=';', index_col=0)\n",
    "data.head()"
   ]
  },
  {
   "cell_type": "code",
   "execution_count": 4,
   "metadata": {
    "scrolled": true
   },
   "outputs": [
    {
     "data": {
      "text/plain": [
       "(1000, 2)"
      ]
     },
     "execution_count": 4,
     "metadata": {},
     "output_type": "execute_result"
    }
   ],
   "source": [
    "data.shape"
   ]
  },
  {
   "cell_type": "code",
   "execution_count": 5,
   "metadata": {
    "scrolled": true
   },
   "outputs": [
    {
     "data": {
      "text/plain": [
       "array(['Control', 'Treatment'], dtype=object)"
      ]
     },
     "execution_count": 5,
     "metadata": {},
     "output_type": "execute_result"
    }
   ],
   "source": [
    "data.experimentVariant.unique()"
   ]
  },
  {
   "cell_type": "code",
   "execution_count": 6,
   "metadata": {},
   "outputs": [
    {
     "data": {
      "text/plain": [
       "value                float64\n",
       "experimentVariant     object\n",
       "dtype: object"
      ]
     },
     "execution_count": 6,
     "metadata": {},
     "output_type": "execute_result"
    }
   ],
   "source": [
    "# Приведем данные к нужному формату\n",
    "data.value = data.value.apply(lambda x: float(x.replace(',', '.')))\n",
    "data.dtypes"
   ]
  },
  {
   "cell_type": "markdown",
   "metadata": {},
   "source": [
    "---"
   ]
  },
  {
   "cell_type": "markdown",
   "metadata": {},
   "source": [
    "## t-test"
   ]
  },
  {
   "cell_type": "markdown",
   "metadata": {},
   "source": [
    "Для начала сравним средние при помощи t-теста"
   ]
  },
  {
   "cell_type": "markdown",
   "metadata": {},
   "source": [
    "Для успешного t-теста необходимо \n",
    "- нормальное распределение данных (при условии, что у нас n>30, этим условием можно и принебречь, так как распределение выборочных средних все равно будет стремиться к нормальному, согласно ЦПТ)\n",
    "- приблиизительное равенство дисперсий \n",
    "- приблизительное равенство выборок "
   ]
  },
  {
   "cell_type": "code",
   "execution_count": 7,
   "metadata": {},
   "outputs": [],
   "source": [
    "# Создадим отдельные переменные для данных двух групп\n",
    "control = data.query('experimentVariant == \"Control\"').value\n",
    "treatment = data.query('experimentVariant == \"Treatment\"').value"
   ]
  },
  {
   "cell_type": "code",
   "execution_count": 8,
   "metadata": {},
   "outputs": [
    {
     "data": {
      "text/plain": [
       "Text(0.5, 1.0, 'Control_group\\n')"
      ]
     },
     "execution_count": 8,
     "metadata": {},
     "output_type": "execute_result"
    },
    {
     "data": {
      "image/png": "[encoded data removed]",
      "text/plain": [
       "<Figure size 720x360 with 1 Axes>"
      ]
     },
     "metadata": {},
     "output_type": "display_data"
    }
   ],
   "source": [
    "# Проверим нормальность распределения в группах при помощи теста Агостино-Пирсона по функции\n",
    "# scipy.stats.normaltest()\n",
    "ax = sns.histplot(control, kde = True)\n",
    "ax.set_title('Control_group\\n')"
   ]
  },
  {
   "cell_type": "code",
   "execution_count": 9,
   "metadata": {},
   "outputs": [
    {
     "data": {
      "text/plain": [
       "NormaltestResult(statistic=2.943458720256407, pvalue=0.2295282048395919)"
      ]
     },
     "execution_count": 9,
     "metadata": {},
     "output_type": "execute_result"
    }
   ],
   "source": [
    "ss.normaltest(control) \n",
    "# Визуально и, согласно тесту, распределение данных в контрольной группе- нормальное "
   ]
  },
  {
   "cell_type": "code",
   "execution_count": 10,
   "metadata": {},
   "outputs": [
    {
     "data": {
      "text/plain": [
       "Text(0.5, 1.0, 'Treatment_group\\n')"
      ]
     },
     "execution_count": 10,
     "metadata": {},
     "output_type": "execute_result"
    },
    {
     "data": {
      "image/png": "[encoded data removed]",
      "text/plain": [
       "<Figure size 720x360 with 1 Axes>"
      ]
     },
     "metadata": {},
     "output_type": "display_data"
    }
   ],
   "source": [
    "ax = sns.histplot(treatment, kde = True)\n",
    "ax.set_title('Treatment_group\\n') \n",
    "# Распределение данных в тестовой группе выглядит сильно скошенным вправо"
   ]
  },
  {
   "cell_type": "code",
   "execution_count": 11,
   "metadata": {},
   "outputs": [
    {
     "data": {
      "text/plain": [
       "Text(0.5, 1.0, 'Treatment_group_log\\n')"
      ]
     },
     "execution_count": 11,
     "metadata": {},
     "output_type": "execute_result"
    },
    {
     "data": {
      "image/png": "[encoded data removed]",
      "text/plain": [
       "<Figure size 720x360 with 1 Axes>"
      ]
     },
     "metadata": {},
     "output_type": "display_data"
    }
   ],
   "source": [
    "ax = sns.histplot(np.log(treatment), kde = True)\n",
    "ax.set_title('Treatment_group_log\\n')\n",
    "# Даже логорифмирование не сильно помогло..."
   ]
  },
  {
   "cell_type": "code",
   "execution_count": 12,
   "metadata": {},
   "outputs": [
    {
     "data": {
      "text/plain": [
       "Text(0.5, 1.0, 'Treatment_group_no_outliers\\n')"
      ]
     },
     "execution_count": 12,
     "metadata": {},
     "output_type": "execute_result"
    },
    {
     "data": {
      "image/png": "[encoded data removed]",
      "text/plain": [
       "<Figure size 720x360 with 1 Axes>"
      ]
     },
     "metadata": {},
     "output_type": "display_data"
    }
   ],
   "source": [
    "# Попробуем избаваиться от выбросов, взяв значения только из 99 перцентиля\n",
    "treatment_cutted = data.query('experimentVariant == \"Treatment\"')\n",
    "treatment_cutted = treatment_cutted[treatment_cutted.value <= treatment_cutted.value.quantile(0.99)]\n",
    "treatment_cutted = treatment_cutted.value\n",
    "ax = sns.histplot(treatment_cutted, kde = True)\n",
    "ax.set_title('Treatment_group_no_outliers\\n')\n",
    "# Вся проблема была в небольшом количестве выбросов. Когда мы от них избавились, \n",
    "# распределение приняло нормальный вид"
   ]
  },
  {
   "cell_type": "code",
   "execution_count": 13,
   "metadata": {},
   "outputs": [
    {
     "data": {
      "text/plain": [
       "NormaltestResult(statistic=929.5157667884811, pvalue=1.439513760946726e-202)"
      ]
     },
     "execution_count": 13,
     "metadata": {},
     "output_type": "execute_result"
    }
   ],
   "source": [
    "ss.normaltest(treatment)\n",
    "# Тест Агостино-Пирсона показывает, что у нас нет оснований для отклонения гипотезы\n",
    "# о нормальности распределения данных в тестовой группе. Судя по всему, выбросы не повлияли на резлультаты теста"
   ]
  },
  {
   "cell_type": "code",
   "execution_count": 14,
   "metadata": {},
   "outputs": [
    {
     "data": {
      "text/html": [
       "<div>\n",
       "<style scoped>\n",
       "    .dataframe tbody tr th:only-of-type {\n",
       "        vertical-align: middle;\n",
       "    }\n",
       "\n",
       "    .dataframe tbody tr th {\n",
       "        vertical-align: top;\n",
       "    }\n",
       "\n",
       "    .dataframe thead th {\n",
       "        text-align: right;\n",
       "    }\n",
       "</style>\n",
       "<table border=\"1\" class=\"dataframe\">\n",
       "  <thead>\n",
       "    <tr style=\"text-align: right;\">\n",
       "      <th></th>\n",
       "      <th>experimentVariant</th>\n",
       "      <th>count</th>\n",
       "    </tr>\n",
       "  </thead>\n",
       "  <tbody>\n",
       "    <tr>\n",
       "      <th>0</th>\n",
       "      <td>Control</td>\n",
       "      <td>500</td>\n",
       "    </tr>\n",
       "    <tr>\n",
       "      <th>1</th>\n",
       "      <td>Treatment</td>\n",
       "      <td>500</td>\n",
       "    </tr>\n",
       "  </tbody>\n",
       "</table>\n",
       "</div>"
      ],
      "text/plain": [
       "  experimentVariant  count\n",
       "0           Control    500\n",
       "1         Treatment    500"
      ]
     },
     "execution_count": 14,
     "metadata": {},
     "output_type": "execute_result"
    }
   ],
   "source": [
    "# Проверим, что количество наблюдений в обоих группах одинаково\n",
    "data.groupby('experimentVariant', as_index=False).agg(count = ('value', 'count'))"
   ]
  },
  {
   "cell_type": "code",
   "execution_count": 15,
   "metadata": {},
   "outputs": [
    {
     "data": {
      "text/html": [
       "<div>\n",
       "<style scoped>\n",
       "    .dataframe tbody tr th:only-of-type {\n",
       "        vertical-align: middle;\n",
       "    }\n",
       "\n",
       "    .dataframe tbody tr th {\n",
       "        vertical-align: top;\n",
       "    }\n",
       "\n",
       "    .dataframe thead th {\n",
       "        text-align: right;\n",
       "    }\n",
       "</style>\n",
       "<table border=\"1\" class=\"dataframe\">\n",
       "  <thead>\n",
       "    <tr style=\"text-align: right;\">\n",
       "      <th></th>\n",
       "      <th>experimentVariant</th>\n",
       "      <th>std</th>\n",
       "    </tr>\n",
       "  </thead>\n",
       "  <tbody>\n",
       "    <tr>\n",
       "      <th>0</th>\n",
       "      <td>Control</td>\n",
       "      <td>0.979377</td>\n",
       "    </tr>\n",
       "    <tr>\n",
       "      <th>1</th>\n",
       "      <td>Treatment</td>\n",
       "      <td>186.557011</td>\n",
       "    </tr>\n",
       "  </tbody>\n",
       "</table>\n",
       "</div>"
      ],
      "text/plain": [
       "  experimentVariant         std\n",
       "0           Control    0.979377\n",
       "1         Treatment  186.557011"
      ]
     },
     "execution_count": 15,
     "metadata": {},
     "output_type": "execute_result"
    }
   ],
   "source": [
    "# Проверим однородность стандартных отклонений в двух выборках\n",
    "data.groupby('experimentVariant', as_index=False).agg(std = ('value', 'std'))"
   ]
  },
  {
   "cell_type": "code",
   "execution_count": 16,
   "metadata": {
    "scrolled": true
   },
   "outputs": [
    {
     "data": {
      "text/html": [
       "<div>\n",
       "<style scoped>\n",
       "    .dataframe tbody tr th:only-of-type {\n",
       "        vertical-align: middle;\n",
       "    }\n",
       "\n",
       "    .dataframe tbody tr th {\n",
       "        vertical-align: top;\n",
       "    }\n",
       "\n",
       "    .dataframe thead th {\n",
       "        text-align: right;\n",
       "    }\n",
       "</style>\n",
       "<table border=\"1\" class=\"dataframe\">\n",
       "  <thead>\n",
       "    <tr style=\"text-align: right;\">\n",
       "      <th></th>\n",
       "      <th>experimentVariant</th>\n",
       "      <th>mean</th>\n",
       "    </tr>\n",
       "  </thead>\n",
       "  <tbody>\n",
       "    <tr>\n",
       "      <th>0</th>\n",
       "      <td>Control</td>\n",
       "      <td>10.026867</td>\n",
       "    </tr>\n",
       "    <tr>\n",
       "      <th>1</th>\n",
       "      <td>Treatment</td>\n",
       "      <td>27.321499</td>\n",
       "    </tr>\n",
       "  </tbody>\n",
       "</table>\n",
       "</div>"
      ],
      "text/plain": [
       "  experimentVariant       mean\n",
       "0           Control  10.026867\n",
       "1         Treatment  27.321499"
      ]
     },
     "execution_count": 16,
     "metadata": {},
     "output_type": "execute_result"
    }
   ],
   "source": [
    "# Посмотрим на среднее в двух группах\n",
    "data.groupby('experimentVariant', as_index=False).agg(mean = ('value', 'mean'))"
   ]
  },
  {
   "cell_type": "code",
   "execution_count": 17,
   "metadata": {
    "scrolled": true
   },
   "outputs": [
    {
     "data": {
      "text/plain": [
       "<matplotlib.axes._subplots.AxesSubplot at 0x7ff334889860>"
      ]
     },
     "execution_count": 17,
     "metadata": {},
     "output_type": "execute_result"
    },
    {
     "data": {
      "image/png": "[encoded data removed]",
      "text/plain": [
       "<Figure size 720x360 with 1 Axes>"
      ]
     },
     "metadata": {},
     "output_type": "display_data"
    }
   ],
   "source": [
    "sns.boxplot(data=data, x='experimentVariant', y='value')"
   ]
  },
  {
   "cell_type": "code",
   "execution_count": 18,
   "metadata": {},
   "outputs": [
    {
     "data": {
      "text/plain": [
       "17.294632522857277"
      ]
     },
     "execution_count": 18,
     "metadata": {},
     "output_type": "execute_result"
    }
   ],
   "source": [
    "# На сколько изменилось среднее в абсолютных цифрах \n",
    "treatment.mean()-control.mean()"
   ]
  },
  {
   "cell_type": "code",
   "execution_count": 19,
   "metadata": {},
   "outputs": [
    {
     "data": {
      "text/plain": [
       "172.4829233993555"
      ]
     },
     "execution_count": 19,
     "metadata": {},
     "output_type": "execute_result"
    }
   ],
   "source": [
    "# ... в процентах\n",
    "(treatment.mean()-control.mean()) / (control.mean()/100)"
   ]
  },
  {
   "cell_type": "code",
   "execution_count": 20,
   "metadata": {},
   "outputs": [
    {
     "data": {
      "text/plain": [
       "Ttest_indResult(statistic=2.0729020485356604, pvalue=0.03869409943233407)"
      ]
     },
     "execution_count": 20,
     "metadata": {},
     "output_type": "execute_result"
    }
   ],
   "source": [
    "# Запускам t-тест\n",
    "ss.ttest_ind(treatment, control, equal_var=False)"
   ]
  },
  {
   "cell_type": "markdown",
   "metadata": {},
   "source": [
    "По итогу статистика в t-тесте равна 2, p-value < 0.05, тоест у нас есть основания для отклонения 0-гипотезы \n",
    "о равенстве средних в двух группах\n",
    "\n",
    "Однако t-тест мог оказаться не самым надежным тестом для наших данных, так как имеется значительное различие в дисперсии в двух группах. Кроме того, в тестовой группе имеются значительные выборы, которые искажают форму распределения данных. \n",
    "Таким образом, в нашем случае целесообразно применить непараметрический аналог t-теста - U-тест Мана-Витня..."
   ]
  },
  {
   "cell_type": "markdown",
   "metadata": {},
   "source": [
    "---"
   ]
  },
  {
   "cell_type": "markdown",
   "metadata": {},
   "source": [
    "## U-тест Mann-Whitney"
   ]
  },
  {
   "cell_type": "code",
   "execution_count": 21,
   "metadata": {},
   "outputs": [
    {
     "data": {
      "text/plain": [
       "MannwhitneyuResult(statistic=125810.5, pvalue=0.8592148582485579)"
      ]
     },
     "execution_count": 21,
     "metadata": {},
     "output_type": "execute_result"
    }
   ],
   "source": [
    "ss.mannwhitneyu(treatment, control)"
   ]
  },
  {
   "cell_type": "markdown",
   "metadata": {},
   "source": [
    "Как мы видим, непараметрический U-тест Мана-Витня дает противоположный результат- p-value = 0.86 означает, что у нас нет оснований для отклонения 0-гипотезы о равенстве средних в двух группах"
   ]
  },
  {
   "cell_type": "markdown",
   "metadata": {},
   "source": [
    "---"
   ]
  },
  {
   "cell_type": "markdown",
   "metadata": {},
   "source": [
    "## Bootstrap of means "
   ]
  },
  {
   "cell_type": "markdown",
   "metadata": {},
   "source": [
    "Также попробуем сравнить средние при помощи Бутстрапа средних"
   ]
  },
  {
   "cell_type": "code",
   "execution_count": 22,
   "metadata": {},
   "outputs": [],
   "source": [
    "# Построим 95% доверительный интервал для разницы средних двух групп\n",
    "\n",
    "\n",
    "n = 500         # размер исходной выборки\n",
    "B = 1000        # количество генерируемых подвыборок\n",
    "\n",
    "mean_diff = treatment.mean() - control.mean()\n",
    "bootstrap_values_control = np.random.choice(control, (B, n), replace=True)\n",
    "bootstrap_means_control = np.mean(bootstrap_values_control, axis=1)\n",
    "bootstrap_values_treatment = np.random.choice(treatment, (B, n), replace=True)\n",
    "bootstrap_means_treatment = np.mean(bootstrap_values_treatment, axis=1)\n",
    "bootstrap_stats = bootstrap_means_treatment - bootstrap_means_control "
   ]
  },
  {
   "cell_type": "code",
   "execution_count": 23,
   "metadata": {},
   "outputs": [],
   "source": [
    "# Строим перцентильный доверительный интервал для разниц средних в наших бут-выборках\n",
    "\n",
    "alpha = 0.05\n",
    "left, right = np.quantile(bootstrap_stats, [alpha / 2, 1 - alpha / 2])\n",
    "has_effect = not (left < 0 < right)"
   ]
  },
  {
   "cell_type": "code",
   "execution_count": 17,
   "metadata": {},
   "outputs": [
    {
     "name": "stdout",
     "output_type": "stream",
     "text": [
      "Значение среднего в тестовой группе изменилось на: 17.29\n",
      "95.0% доверительный интервал: (2.98, 36.34)\n",
      "Отличия статистически значимые: True\n"
     ]
    }
   ],
   "source": [
    "print(f'Значение среднего в тестовой группе изменилось на: {mean_diff:0.2f}')\n",
    "print(f'{((1 - alpha) * 100)}% доверительный интервал: ({left:0.2f}, {right:0.2f})')\n",
    "print(f'Отличия статистически значимые: {has_effect}')"
   ]
  },
  {
   "cell_type": "markdown",
   "metadata": {},
   "source": [
    "95% доверительный интервал для разницы между средними не включает в себя 0, значит есть основания для отклонения 0-гипотезы о равенстве средних в двух группах.\n",
    "\n",
    "Однако данный способ позволяет нам лишь построить доверительный интервал для заранее заданного альфы (a), но не находит p-value наличия различий между средними групп. Найдем p-value для результатов бутстрап эксперимента..."
   ]
  },
  {
   "cell_type": "code",
   "execution_count": 24,
   "metadata": {},
   "outputs": [
    {
     "name": "stdout",
     "output_type": "stream",
     "text": [
      "0.04160819144218073\n"
     ]
    }
   ],
   "source": [
    " p_1 = norm.cdf(\n",
    "        x = 0, \n",
    "        loc = np.mean(bootstrap_stats), \n",
    "        scale = np.std(bootstrap_stats)\n",
    "    )\n",
    "p_2 = norm.cdf(\n",
    "        x = 0, \n",
    "        loc = -np.mean(bootstrap_stats), \n",
    "        scale = np.std(bootstrap_stats)\n",
    "    )\n",
    "p_value = min(p_1, p_2) * 2\n",
    "print(p_value)"
   ]
  },
  {
   "cell_type": "markdown",
   "metadata": {},
   "source": [
    "p-значение 0.04 по результатам бутстрапа близко к результатам t-теста и также говорит нам о наличии статистически значимой разницы между средними двух групп"
   ]
  },
  {
   "cell_type": "markdown",
   "metadata": {},
   "source": [
    "---"
   ]
  },
  {
   "cell_type": "markdown",
   "metadata": {},
   "source": [
    "**Итог:** так как в двух группах сильно различается дисперсия, а также имеются значительные выбросы (которые, вероятнее всего и отвечают за искажение результатов), обоснованнее всего применять непараметрический U-тест Мана-Витня, который в нашем случае указывает на отсутсвие статистически-значимых различий между группами. "
   ]
  },
  {
   "cell_type": "code",
   "execution_count": null,
   "metadata": {},
   "outputs": [],
   "source": []
  }
 ],
 "metadata": {
  "kernelspec": {
   "display_name": "Python 3",
   "language": "python",
   "name": "python3"
  },
  "language_info": {
   "codemirror_mode": {
    "name": "ipython",
    "version": 3
   },
   "file_extension": ".py",
   "mimetype": "text/x-python",
   "name": "python",
   "nbconvert_exporter": "python",
   "pygments_lexer": "ipython3",
   "version": "3.7.3"
  }
 },
 "nbformat": 4,
 "nbformat_minor": 4
}
