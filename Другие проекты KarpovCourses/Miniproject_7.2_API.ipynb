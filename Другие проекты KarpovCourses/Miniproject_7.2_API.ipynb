{
 "cells": [
  {
   "cell_type": "code",
   "execution_count": 3,
   "metadata": {},
   "outputs": [],
   "source": [
    "import pandas as pd\n",
    "import requests\n",
    "import seaborn as sns\n",
    "import  matplotlib.pyplot as plt"
   ]
  },
  {
   "cell_type": "code",
   "execution_count": 7,
   "metadata": {},
   "outputs": [
    {
     "data": {
      "text/plain": [
       "{'total': 86,\n",
       " 'objectIDs': [485308,\n",
       "  437112,\n",
       "  707887,\n",
       "  436524,\n",
       "  363282,\n",
       "  360837,\n",
       "  210191,\n",
       "  11922,\n",
       "  816522,\n",
       "  2032,\n",
       "  400581,\n",
       "  367817,\n",
       "  20141,\n",
       "  480725,\n",
       "  2019,\n",
       "  208554,\n",
       "  486590,\n",
       "  437115,\n",
       "  207869,\n",
       "  761604,\n",
       "  375281,\n",
       "  705155,\n",
       "  484935,\n",
       "  423400,\n",
       "  343052,\n",
       "  223828,\n",
       "  682927,\n",
       "  57922,\n",
       "  649813,\n",
       "  79739,\n",
       "  193938,\n",
       "  339347,\n",
       "  626832,\n",
       "  208218,\n",
       "  437984,\n",
       "  202228,\n",
       "  436534,\n",
       "  704667,\n",
       "  696949,\n",
       "  437329,\n",
       "  436252,\n",
       "  437526,\n",
       "  436580,\n",
       "  190739,\n",
       "  207753,\n",
       "  347980,\n",
       "  822570,\n",
       "  487043,\n",
       "  203893,\n",
       "  367434,\n",
       "  431264,\n",
       "  423237,\n",
       "  397949,\n",
       "  262423,\n",
       "  403496,\n",
       "  13644,\n",
       "  656530,\n",
       "  18362,\n",
       "  820022,\n",
       "  648617,\n",
       "  664519,\n",
       "  761731,\n",
       "  814626,\n",
       "  207967,\n",
       "  262430,\n",
       "  262428,\n",
       "  839296,\n",
       "  707697,\n",
       "  205386,\n",
       "  262378,\n",
       "  426804,\n",
       "  633526,\n",
       "  436121,\n",
       "  369073,\n",
       "  747779,\n",
       "  436144,\n",
       "  852414,\n",
       "  427872,\n",
       "  436530,\n",
       "  436535,\n",
       "  436529,\n",
       "  437980,\n",
       "  724844,\n",
       "  834585,\n",
       "  834580,\n",
       "  834765]}"
      ]
     },
     "execution_count": 7,
     "metadata": {},
     "output_type": "execute_result"
    }
   ],
   "source": [
    "# поработаем с открытым API от The Metropolitan Museum of Art Collection \n",
    "\n",
    "# создадим запрос на поиск произведений, в описании которых есть слово 'sunflower'\n",
    "r = requests.get('https://collectionapi.metmuseum.org/public/collection/v1/search?q=sunflower')\n",
    "res = r.json()\n",
    "res"
   ]
  },
  {
   "cell_type": "code",
   "execution_count": 8,
   "metadata": {},
   "outputs": [],
   "source": [
    "# организуем полученные id в список\n",
    "res_lst = res['objectIDs']"
   ]
  },
  {
   "cell_type": "code",
   "execution_count": 6,
   "metadata": {},
   "outputs": [
    {
     "name": "stdout",
     "output_type": "stream",
     "text": [
      "436524\n",
      "2032\n",
      "437329\n"
     ]
    }
   ],
   "source": [
    "for i in [436524, 2032, 437329, 20149, 16822570]:\n",
    "    if i in res_lst:\n",
    "        print(i)"
   ]
  },
  {
   "cell_type": "code",
   "execution_count": 9,
   "metadata": {},
   "outputs": [
    {
     "data": {
      "text/plain": [
       "{'objectID': 436524,\n",
       " 'isHighlight': False,\n",
       " 'accessionNumber': '49.41',\n",
       " 'accessionYear': '1949',\n",
       " 'isPublicDomain': True,\n",
       " 'primaryImage': 'https://images.metmuseum.org/CRDImages/ep/original/DP229743.jpg',\n",
       " 'primaryImageSmall': 'https://images.metmuseum.org/CRDImages/ep/web-large/DP229743.jpg',\n",
       " 'additionalImages': [],\n",
       " 'constituents': [{'constituentID': 161947,\n",
       "   'role': 'Artist',\n",
       "   'name': 'Vincent van Gogh',\n",
       "   'constituentULAN_URL': 'http://vocab.getty.edu/page/ulan/500115588',\n",
       "   'constituentWikidata_URL': 'https://www.wikidata.org/wiki/Q5582',\n",
       "   'gender': ''}],\n",
       " 'department': 'European Paintings',\n",
       " 'objectName': 'Painting',\n",
       " 'title': 'Sunflowers',\n",
       " 'culture': '',\n",
       " 'period': '',\n",
       " 'dynasty': '',\n",
       " 'reign': '',\n",
       " 'portfolio': '',\n",
       " 'artistRole': 'Artist',\n",
       " 'artistPrefix': '',\n",
       " 'artistDisplayName': 'Vincent van Gogh',\n",
       " 'artistDisplayBio': 'Dutch, Zundert 1853–1890 Auvers-sur-Oise',\n",
       " 'artistSuffix': '',\n",
       " 'artistAlphaSort': 'Gogh, Vincent van',\n",
       " 'artistNationality': 'Dutch',\n",
       " 'artistBeginDate': '1853',\n",
       " 'artistEndDate': '1890',\n",
       " 'artistGender': '',\n",
       " 'artistWikidata_URL': 'https://www.wikidata.org/wiki/Q5582',\n",
       " 'artistULAN_URL': 'http://vocab.getty.edu/page/ulan/500115588',\n",
       " 'objectDate': '1887',\n",
       " 'objectBeginDate': 1887,\n",
       " 'objectEndDate': 1887,\n",
       " 'medium': 'Oil on canvas',\n",
       " 'dimensions': '17 x 24 in. (43.2 x 61 cm)',\n",
       " 'measurements': [{'elementName': 'Overall',\n",
       "   'elementDescription': None,\n",
       "   'elementMeasurements': {'Height': 43.2, 'Width': 61}},\n",
       "  {'elementName': 'Frame',\n",
       "   'elementDescription': None,\n",
       "   'elementMeasurements': {'Depth': 6.35,\n",
       "    'Height': 66.6751,\n",
       "    'Width': 85.0902}}],\n",
       " 'creditLine': 'Rogers Fund, 1949',\n",
       " 'geographyType': '',\n",
       " 'city': '',\n",
       " 'state': '',\n",
       " 'county': '',\n",
       " 'country': '',\n",
       " 'region': '',\n",
       " 'subregion': '',\n",
       " 'locale': '',\n",
       " 'locus': '',\n",
       " 'excavation': '',\n",
       " 'river': '',\n",
       " 'classification': 'Paintings',\n",
       " 'rightsAndReproduction': '',\n",
       " 'linkResource': '',\n",
       " 'metadataDate': '2022-08-19T04:54:33.997Z',\n",
       " 'repository': 'Metropolitan Museum of Art, New York, NY',\n",
       " 'objectURL': 'https://www.metmuseum.org/art/collection/search/436524',\n",
       " 'tags': [{'term': 'Still Life',\n",
       "   'AAT_URL': 'http://vocab.getty.edu/page/aat/300015638',\n",
       "   'Wikidata_URL': 'https://www.wikidata.org/wiki/Q170571'},\n",
       "  {'term': 'Sunflowers',\n",
       "   'AAT_URL': 'http://vocab.getty.edu/page/aat/300404749',\n",
       "   'Wikidata_URL': 'https://www.wikidata.org/wiki/Q171497'}],\n",
       " 'objectWikidata_URL': 'https://www.wikidata.org/wiki/Q9213165',\n",
       " 'isTimelineWork': False,\n",
       " 'GalleryNumber': '825'}"
      ]
     },
     "execution_count": 9,
     "metadata": {},
     "output_type": "execute_result"
    }
   ],
   "source": [
    "r = requests.get(f'https://collectionapi.metmuseum.org/public/collection/v1/objects/436524')\n",
    "res = r.json()\n",
    "res"
   ]
  },
  {
   "cell_type": "code",
   "execution_count": 13,
   "metadata": {},
   "outputs": [
    {
     "data": {
      "text/plain": [
       "{'objectID': 834765, 'title': 'A Child\\'s Garden, from \"Picture Poesies\"'}"
      ]
     },
     "execution_count": 13,
     "metadata": {},
     "output_type": "execute_result"
    }
   ],
   "source": [
    "# с помощью цикла считаем информацию об объектах, имеющих в описании sunflower и оформим эту информацию в датафрейм\n",
    "\n",
    "dictionary = {}\n",
    "values = ['objectID', 'title']\n",
    "concat_df = pd.DataFrame()\n",
    "\n",
    "for i in res_lst:\n",
    "    r = requests.get(f'https://collectionapi.metmuseum.org/public/collection/v1/objects/{i}').json()\n",
    "    dictionary = {k: v for k, v in r.items() if k in values}\n",
    "    small_df = pd.DataFrame(dictionary)\n",
    "    concat_df = concat_df.append(small_df)"
   ]
  },
  {
   "cell_type": "code",
   "execution_count": null,
   "metadata": {},
   "outputs": [],
   "source": []
  }
 ],
 "metadata": {
  "kernelspec": {
   "display_name": "Python 3",
   "language": "python",
   "name": "python3"
  },
  "language_info": {
   "codemirror_mode": {
    "name": "ipython",
    "version": 3
   },
   "file_extension": ".py",
   "mimetype": "text/x-python",
   "name": "python",
   "nbconvert_exporter": "python",
   "pygments_lexer": "ipython3",
   "version": "3.7.3"
  }
 },
 "nbformat": 4,
 "nbformat_minor": 4
}
