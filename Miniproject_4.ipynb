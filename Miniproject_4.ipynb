{
 "cells": [
  {
   "cell_type": "code",
   "execution_count": 19,
   "metadata": {},
   "outputs": [],
   "source": [
    "import pandas as pd\n",
    "import seaborn as sns\n",
    "import os\n",
    "import matplotlib.pyplot as plt"
   ]
  },
  {
   "cell_type": "code",
   "execution_count": 2,
   "metadata": {},
   "outputs": [],
   "source": [
    "# Cтруктура данных: записываются для каждого пользователя, совершившего покупки, каждый день\n",
    "# для каждой даты есть своя папка, внутри неё – папки для каждого пользователя\n",
    "# внутри каждой папки есть файл data.csv, где и хранятся данные\n",
    "\n",
    "#  Задача: собрать все данные из папки data в один датафрэйм, имеющий следующие столбцы: колонки из самих файлов\n",
    "# (product_id, quantity), а также имя пользователя (name), и дата этих покупок (date) (соответствует \n",
    "# названию папки, где лежит папка с пользователем)"
   ]
  },
  {
   "cell_type": "code",
   "execution_count": 3,
   "metadata": {},
   "outputs": [
    {
     "data": {
      "text/plain": [
       "['2020-12-05',\n",
       " '2020-12-08',\n",
       " '2020-12-09',\n",
       " '2020-12-04',\n",
       " '2020-12-06',\n",
       " '2020-12-03',\n",
       " '2020-12-07']"
      ]
     },
     "execution_count": 3,
     "metadata": {},
     "output_type": "execute_result"
    }
   ],
   "source": [
    "# Сначала посмотрим содержимое основной папки 'Data'\n",
    "\n",
    "path_to_data = '/mnt/HC_Volume_18315164/home-jupyter/jupyter-v-hodzitskij/shared/homeworks/python_ds_miniprojects/4/data'\n",
    "folders_in_data = os.listdir(path_to_data)\n",
    "folders_in_data"
   ]
  },
  {
   "cell_type": "code",
   "execution_count": 4,
   "metadata": {},
   "outputs": [
    {
     "data": {
      "text/html": [
       "<div>\n",
       "<style scoped>\n",
       "    .dataframe tbody tr th:only-of-type {\n",
       "        vertical-align: middle;\n",
       "    }\n",
       "\n",
       "    .dataframe tbody tr th {\n",
       "        vertical-align: top;\n",
       "    }\n",
       "\n",
       "    .dataframe thead th {\n",
       "        text-align: right;\n",
       "    }\n",
       "</style>\n",
       "<table border=\"1\" class=\"dataframe\">\n",
       "  <thead>\n",
       "    <tr style=\"text-align: right;\">\n",
       "      <th></th>\n",
       "      <th>product_id</th>\n",
       "      <th>quantity</th>\n",
       "      <th>name</th>\n",
       "      <th>date</th>\n",
       "    </tr>\n",
       "  </thead>\n",
       "  <tbody>\n",
       "    <tr>\n",
       "      <th>0</th>\n",
       "      <td>27</td>\n",
       "      <td>4</td>\n",
       "      <td>Petr_Ivanov</td>\n",
       "      <td>2020-12-05</td>\n",
       "    </tr>\n",
       "    <tr>\n",
       "      <th>1</th>\n",
       "      <td>89</td>\n",
       "      <td>1</td>\n",
       "      <td>Petr_Ivanov</td>\n",
       "      <td>2020-12-05</td>\n",
       "    </tr>\n",
       "    <tr>\n",
       "      <th>2</th>\n",
       "      <td>33</td>\n",
       "      <td>2</td>\n",
       "      <td>Petr_Ivanov</td>\n",
       "      <td>2020-12-05</td>\n",
       "    </tr>\n",
       "    <tr>\n",
       "      <th>3</th>\n",
       "      <td>8</td>\n",
       "      <td>3</td>\n",
       "      <td>Petr_Ivanov</td>\n",
       "      <td>2020-12-05</td>\n",
       "    </tr>\n",
       "    <tr>\n",
       "      <th>4</th>\n",
       "      <td>16</td>\n",
       "      <td>1</td>\n",
       "      <td>Petr_Ivanov</td>\n",
       "      <td>2020-12-05</td>\n",
       "    </tr>\n",
       "    <tr>\n",
       "      <th>...</th>\n",
       "      <td>...</td>\n",
       "      <td>...</td>\n",
       "      <td>...</td>\n",
       "      <td>...</td>\n",
       "    </tr>\n",
       "    <tr>\n",
       "      <th>156</th>\n",
       "      <td>18</td>\n",
       "      <td>4</td>\n",
       "      <td>Petr_Fedorov</td>\n",
       "      <td>2020-12-07</td>\n",
       "    </tr>\n",
       "    <tr>\n",
       "      <th>157</th>\n",
       "      <td>94</td>\n",
       "      <td>4</td>\n",
       "      <td>Petr_Fedorov</td>\n",
       "      <td>2020-12-07</td>\n",
       "    </tr>\n",
       "    <tr>\n",
       "      <th>158</th>\n",
       "      <td>95</td>\n",
       "      <td>2</td>\n",
       "      <td>Vasiliy_Ivanov</td>\n",
       "      <td>2020-12-07</td>\n",
       "    </tr>\n",
       "    <tr>\n",
       "      <th>159</th>\n",
       "      <td>83</td>\n",
       "      <td>3</td>\n",
       "      <td>Vasiliy_Ivanov</td>\n",
       "      <td>2020-12-07</td>\n",
       "    </tr>\n",
       "    <tr>\n",
       "      <th>160</th>\n",
       "      <td>64</td>\n",
       "      <td>1</td>\n",
       "      <td>Vasiliy_Ivanov</td>\n",
       "      <td>2020-12-07</td>\n",
       "    </tr>\n",
       "  </tbody>\n",
       "</table>\n",
       "<p>161 rows × 4 columns</p>\n",
       "</div>"
      ],
      "text/plain": [
       "     product_id  quantity            name        date\n",
       "0            27         4     Petr_Ivanov  2020-12-05\n",
       "1            89         1     Petr_Ivanov  2020-12-05\n",
       "2            33         2     Petr_Ivanov  2020-12-05\n",
       "3             8         3     Petr_Ivanov  2020-12-05\n",
       "4            16         1     Petr_Ivanov  2020-12-05\n",
       "..          ...       ...             ...         ...\n",
       "156          18         4    Petr_Fedorov  2020-12-07\n",
       "157          94         4    Petr_Fedorov  2020-12-07\n",
       "158          95         2  Vasiliy_Ivanov  2020-12-07\n",
       "159          83         3  Vasiliy_Ivanov  2020-12-07\n",
       "160          64         1  Vasiliy_Ivanov  2020-12-07\n",
       "\n",
       "[161 rows x 4 columns]"
      ]
     },
     "execution_count": 4,
     "metadata": {},
     "output_type": "execute_result"
    }
   ],
   "source": [
    "# Создадим пустой датафрейм, в который будем собирать маленькие датафреймы из файлов\n",
    "main_df = pd.DataFrame()\n",
    "\n",
    "\n",
    "# Создадим вложенный цикл, чтобы найти полный путь до каждого из CSV файлов\n",
    "\n",
    "for folder in folders_in_data:\n",
    "    folders_in_date = os.listdir(path_to_data + '/' + folder)\n",
    "    for folder_2 in folders_in_date:\n",
    "        files_in_name = os.listdir(path_to_data + '/' + folder + '/' + folder_2)\n",
    "        for file in files_in_name:\n",
    "            final_path = path_to_data + '/' + folder + '/' + folder_2 + '/' + file \n",
    "            # в переменной 'final_path' сохраняется путь до каждого из CSV файлов\n",
    "            final_df = pd.read_csv(final_path)\n",
    "            \n",
    "            # добавим в каждый маленький датафрейм колонки date и name, информацию о которых возьмем из названия папок\n",
    "            name = final_path.split('/')[-2]\n",
    "            date = final_path.split('/')[-3]\n",
    "            final_df['name'] = name\n",
    "            final_df['date'] = date\n",
    "            \n",
    "            main_df = pd.concat([main_df, final_df])\n",
    "            #добавляем каждый маленький датафрейм к основному датафрейму\n",
    "            \n",
    "main_df = main_df.reset_index(drop=True).drop('Unnamed: 0', axis=1)\n",
    "main_df"
   ]
  },
  {
   "cell_type": "code",
   "execution_count": 5,
   "metadata": {},
   "outputs": [
    {
     "name": "stdout",
     "output_type": "stream",
     "text": [
      "('/mnt/HC_Volume_18315164/home-jupyter/jupyter-v-hodzitskij/shared/homeworks/python_ds_miniprojects/4/data', ['2020-12-05', '2020-12-08', '2020-12-09', '2020-12-04', '2020-12-06', '2020-12-03', '2020-12-07'], [])\n",
      "('/mnt/HC_Volume_18315164/home-jupyter/jupyter-v-hodzitskij/shared/homeworks/python_ds_miniprojects/4/data/2020-12-05', ['Petr_Ivanov', 'Petr_Smirnov', 'Rostislav_Smirnov', 'Kirill_Smirnov', 'Alexey_Fedorov', 'Alexey_Petrov'], [])\n",
      "('/mnt/HC_Volume_18315164/home-jupyter/jupyter-v-hodzitskij/shared/homeworks/python_ds_miniprojects/4/data/2020-12-05/Petr_Ivanov', [], ['data.csv'])\n",
      "('/mnt/HC_Volume_18315164/home-jupyter/jupyter-v-hodzitskij/shared/homeworks/python_ds_miniprojects/4/data/2020-12-05/Petr_Smirnov', [], ['data.csv'])\n",
      "('/mnt/HC_Volume_18315164/home-jupyter/jupyter-v-hodzitskij/shared/homeworks/python_ds_miniprojects/4/data/2020-12-05/Rostislav_Smirnov', [], ['data.csv'])\n",
      "('/mnt/HC_Volume_18315164/home-jupyter/jupyter-v-hodzitskij/shared/homeworks/python_ds_miniprojects/4/data/2020-12-05/Kirill_Smirnov', [], ['data.csv'])\n",
      "('/mnt/HC_Volume_18315164/home-jupyter/jupyter-v-hodzitskij/shared/homeworks/python_ds_miniprojects/4/data/2020-12-05/Alexey_Fedorov', [], ['data.csv'])\n",
      "('/mnt/HC_Volume_18315164/home-jupyter/jupyter-v-hodzitskij/shared/homeworks/python_ds_miniprojects/4/data/2020-12-05/Alexey_Petrov', [], ['data.csv'])\n",
      "('/mnt/HC_Volume_18315164/home-jupyter/jupyter-v-hodzitskij/shared/homeworks/python_ds_miniprojects/4/data/2020-12-08', ['Petr_Petrov', 'Rostislav_Petrov', 'Kirill_Smirnov', 'Alexey_Fedorov', 'Anton_Smirnov'], [])\n",
      "('/mnt/HC_Volume_18315164/home-jupyter/jupyter-v-hodzitskij/shared/homeworks/python_ds_miniprojects/4/data/2020-12-08/Petr_Petrov', [], ['data.csv'])\n",
      "('/mnt/HC_Volume_18315164/home-jupyter/jupyter-v-hodzitskij/shared/homeworks/python_ds_miniprojects/4/data/2020-12-08/Rostislav_Petrov', [], ['data.csv'])\n",
      "('/mnt/HC_Volume_18315164/home-jupyter/jupyter-v-hodzitskij/shared/homeworks/python_ds_miniprojects/4/data/2020-12-08/Kirill_Smirnov', [], ['data.csv'])\n",
      "('/mnt/HC_Volume_18315164/home-jupyter/jupyter-v-hodzitskij/shared/homeworks/python_ds_miniprojects/4/data/2020-12-08/Alexey_Fedorov', [], ['data.csv'])\n",
      "('/mnt/HC_Volume_18315164/home-jupyter/jupyter-v-hodzitskij/shared/homeworks/python_ds_miniprojects/4/data/2020-12-08/Anton_Smirnov', [], ['data.csv'])\n",
      "('/mnt/HC_Volume_18315164/home-jupyter/jupyter-v-hodzitskij/shared/homeworks/python_ds_miniprojects/4/data/2020-12-09', ['Alexey_Smirnov', 'Anton_Petrov', 'Rostislav_Petrov', 'Anton_Smirnov', 'Anton_Ivanov', 'Petr_Fedorov', 'Vasiliy_Ivanov'], [])\n",
      "('/mnt/HC_Volume_18315164/home-jupyter/jupyter-v-hodzitskij/shared/homeworks/python_ds_miniprojects/4/data/2020-12-09/Alexey_Smirnov', [], ['data.csv'])\n",
      "('/mnt/HC_Volume_18315164/home-jupyter/jupyter-v-hodzitskij/shared/homeworks/python_ds_miniprojects/4/data/2020-12-09/Anton_Petrov', [], ['data.csv'])\n",
      "('/mnt/HC_Volume_18315164/home-jupyter/jupyter-v-hodzitskij/shared/homeworks/python_ds_miniprojects/4/data/2020-12-09/Rostislav_Petrov', [], ['data.csv'])\n",
      "('/mnt/HC_Volume_18315164/home-jupyter/jupyter-v-hodzitskij/shared/homeworks/python_ds_miniprojects/4/data/2020-12-09/Anton_Smirnov', [], ['data.csv'])\n",
      "('/mnt/HC_Volume_18315164/home-jupyter/jupyter-v-hodzitskij/shared/homeworks/python_ds_miniprojects/4/data/2020-12-09/Anton_Ivanov', [], ['data.csv'])\n",
      "('/mnt/HC_Volume_18315164/home-jupyter/jupyter-v-hodzitskij/shared/homeworks/python_ds_miniprojects/4/data/2020-12-09/Petr_Fedorov', [], ['data.csv'])\n",
      "('/mnt/HC_Volume_18315164/home-jupyter/jupyter-v-hodzitskij/shared/homeworks/python_ds_miniprojects/4/data/2020-12-09/Vasiliy_Ivanov', [], ['data.csv'])\n",
      "('/mnt/HC_Volume_18315164/home-jupyter/jupyter-v-hodzitskij/shared/homeworks/python_ds_miniprojects/4/data/2020-12-04', ['Kirill_Fedorov', 'Alexey_Smirnov', 'Rostislav_Ivanov', 'Petr_Ivanov', 'Rostislav_Fedorov', 'Petr_Smirnov', 'Rostislav_Smirnov', 'Petr_Fedorov', 'Vasiliy_Ivanov'], [])\n",
      "('/mnt/HC_Volume_18315164/home-jupyter/jupyter-v-hodzitskij/shared/homeworks/python_ds_miniprojects/4/data/2020-12-04/Kirill_Fedorov', [], ['data.csv'])\n",
      "('/mnt/HC_Volume_18315164/home-jupyter/jupyter-v-hodzitskij/shared/homeworks/python_ds_miniprojects/4/data/2020-12-04/Alexey_Smirnov', [], ['data.csv'])\n",
      "('/mnt/HC_Volume_18315164/home-jupyter/jupyter-v-hodzitskij/shared/homeworks/python_ds_miniprojects/4/data/2020-12-04/Rostislav_Ivanov', [], ['data.csv'])\n",
      "('/mnt/HC_Volume_18315164/home-jupyter/jupyter-v-hodzitskij/shared/homeworks/python_ds_miniprojects/4/data/2020-12-04/Petr_Ivanov', [], ['data.csv'])\n",
      "('/mnt/HC_Volume_18315164/home-jupyter/jupyter-v-hodzitskij/shared/homeworks/python_ds_miniprojects/4/data/2020-12-04/Rostislav_Fedorov', [], ['data.csv'])\n",
      "('/mnt/HC_Volume_18315164/home-jupyter/jupyter-v-hodzitskij/shared/homeworks/python_ds_miniprojects/4/data/2020-12-04/Petr_Smirnov', [], ['data.csv'])\n",
      "('/mnt/HC_Volume_18315164/home-jupyter/jupyter-v-hodzitskij/shared/homeworks/python_ds_miniprojects/4/data/2020-12-04/Rostislav_Smirnov', [], ['data.csv'])\n",
      "('/mnt/HC_Volume_18315164/home-jupyter/jupyter-v-hodzitskij/shared/homeworks/python_ds_miniprojects/4/data/2020-12-04/Petr_Fedorov', [], ['data.csv'])\n",
      "('/mnt/HC_Volume_18315164/home-jupyter/jupyter-v-hodzitskij/shared/homeworks/python_ds_miniprojects/4/data/2020-12-04/Vasiliy_Ivanov', [], ['data.csv'])\n",
      "('/mnt/HC_Volume_18315164/home-jupyter/jupyter-v-hodzitskij/shared/homeworks/python_ds_miniprojects/4/data/2020-12-06', ['Vasiliy_Fedorov'], [])\n",
      "('/mnt/HC_Volume_18315164/home-jupyter/jupyter-v-hodzitskij/shared/homeworks/python_ds_miniprojects/4/data/2020-12-06/Vasiliy_Fedorov', [], ['data.csv'])\n",
      "('/mnt/HC_Volume_18315164/home-jupyter/jupyter-v-hodzitskij/shared/homeworks/python_ds_miniprojects/4/data/2020-12-03', ['Alexey_Smirnov', 'Anton_Petrov', 'Vasiliy_Petrov', 'Kirill_Petrov', 'Petr_Fedorov', 'Vasiliy_Ivanov'], [])\n",
      "('/mnt/HC_Volume_18315164/home-jupyter/jupyter-v-hodzitskij/shared/homeworks/python_ds_miniprojects/4/data/2020-12-03/Alexey_Smirnov', [], ['data.csv'])\n",
      "('/mnt/HC_Volume_18315164/home-jupyter/jupyter-v-hodzitskij/shared/homeworks/python_ds_miniprojects/4/data/2020-12-03/Anton_Petrov', [], ['data.csv'])\n",
      "('/mnt/HC_Volume_18315164/home-jupyter/jupyter-v-hodzitskij/shared/homeworks/python_ds_miniprojects/4/data/2020-12-03/Vasiliy_Petrov', [], ['data.csv'])\n",
      "('/mnt/HC_Volume_18315164/home-jupyter/jupyter-v-hodzitskij/shared/homeworks/python_ds_miniprojects/4/data/2020-12-03/Kirill_Petrov', [], ['data.csv'])\n",
      "('/mnt/HC_Volume_18315164/home-jupyter/jupyter-v-hodzitskij/shared/homeworks/python_ds_miniprojects/4/data/2020-12-03/Petr_Fedorov', [], ['data.csv'])\n",
      "('/mnt/HC_Volume_18315164/home-jupyter/jupyter-v-hodzitskij/shared/homeworks/python_ds_miniprojects/4/data/2020-12-03/Vasiliy_Ivanov', [], ['data.csv'])\n",
      "('/mnt/HC_Volume_18315164/home-jupyter/jupyter-v-hodzitskij/shared/homeworks/python_ds_miniprojects/4/data/2020-12-07', ['Kirill_Fedorov', 'Alexey_Smirnov', 'Rostislav_Fedorov', 'Alexey_Ivanov', 'Petr_Smirnov', 'Alexey_Fedorov', 'Anton_Smirnov', 'Anton_Ivanov', 'Petr_Fedorov', 'Vasiliy_Ivanov'], [])\n",
      "('/mnt/HC_Volume_18315164/home-jupyter/jupyter-v-hodzitskij/shared/homeworks/python_ds_miniprojects/4/data/2020-12-07/Kirill_Fedorov', [], ['data.csv'])\n",
      "('/mnt/HC_Volume_18315164/home-jupyter/jupyter-v-hodzitskij/shared/homeworks/python_ds_miniprojects/4/data/2020-12-07/Alexey_Smirnov', [], ['data.csv'])\n",
      "('/mnt/HC_Volume_18315164/home-jupyter/jupyter-v-hodzitskij/shared/homeworks/python_ds_miniprojects/4/data/2020-12-07/Rostislav_Fedorov', [], ['data.csv'])\n",
      "('/mnt/HC_Volume_18315164/home-jupyter/jupyter-v-hodzitskij/shared/homeworks/python_ds_miniprojects/4/data/2020-12-07/Alexey_Ivanov', [], ['data.csv'])\n",
      "('/mnt/HC_Volume_18315164/home-jupyter/jupyter-v-hodzitskij/shared/homeworks/python_ds_miniprojects/4/data/2020-12-07/Petr_Smirnov', [], ['data.csv'])\n",
      "('/mnt/HC_Volume_18315164/home-jupyter/jupyter-v-hodzitskij/shared/homeworks/python_ds_miniprojects/4/data/2020-12-07/Alexey_Fedorov', [], ['data.csv'])\n",
      "('/mnt/HC_Volume_18315164/home-jupyter/jupyter-v-hodzitskij/shared/homeworks/python_ds_miniprojects/4/data/2020-12-07/Anton_Smirnov', [], ['data.csv'])\n",
      "('/mnt/HC_Volume_18315164/home-jupyter/jupyter-v-hodzitskij/shared/homeworks/python_ds_miniprojects/4/data/2020-12-07/Anton_Ivanov', [], ['data.csv'])\n",
      "('/mnt/HC_Volume_18315164/home-jupyter/jupyter-v-hodzitskij/shared/homeworks/python_ds_miniprojects/4/data/2020-12-07/Petr_Fedorov', [], ['data.csv'])\n",
      "('/mnt/HC_Volume_18315164/home-jupyter/jupyter-v-hodzitskij/shared/homeworks/python_ds_miniprojects/4/data/2020-12-07/Vasiliy_Ivanov', [], ['data.csv'])\n"
     ]
    }
   ],
   "source": [
    "# Альтернативно можно было воспользоваться ф-цией walk, которая бы выдала нам пути до всех конечных файлов в папке Data\n",
    "tree = os.walk(path_to_data)\n",
    "for path in tree:\n",
    "    print(path)"
   ]
  },
  {
   "cell_type": "code",
   "execution_count": 6,
   "metadata": {},
   "outputs": [
    {
     "data": {
      "text/plain": [
       "Index(['Alexey_Smirnov', 'Petr_Smirnov'], dtype='object', name='name')"
      ]
     },
     "execution_count": 6,
     "metadata": {},
     "output_type": "execute_result"
    }
   ],
   "source": [
    "# Найдем имена пользователей, которые купили наибольшее число товаров\n",
    "\n",
    "quantity_per_user = main_df.groupby('name').quantity.sum()\n",
    "max_quantity = quantity_per_user.max()\n",
    "best_users = quantity_per_user.loc[quantity_per_user == max_quantity].index.sort_values()\n",
    "best_users"
   ]
  },
  {
   "cell_type": "code",
   "execution_count": 7,
   "metadata": {},
   "outputs": [],
   "source": [
    "# Альтернативный вариант выполнение предыдущей задачи\n",
    "\n",
    "# purchases_per_user = (main_df.groupby('name')\n",
    "#                            .agg({'quantity': 'sum'})\n",
    "#                            .sort_values(by='quantity', ascending=False)\n",
    "#                     )\n",
    "#purchases_per_user"
   ]
  },
  {
   "cell_type": "code",
   "execution_count": 8,
   "metadata": {},
   "outputs": [
    {
     "data": {
      "text/html": [
       "<div>\n",
       "<style scoped>\n",
       "    .dataframe tbody tr th:only-of-type {\n",
       "        vertical-align: middle;\n",
       "    }\n",
       "\n",
       "    .dataframe tbody tr th {\n",
       "        vertical-align: top;\n",
       "    }\n",
       "\n",
       "    .dataframe thead th {\n",
       "        text-align: right;\n",
       "    }\n",
       "</style>\n",
       "<table border=\"1\" class=\"dataframe\">\n",
       "  <thead>\n",
       "    <tr style=\"text-align: right;\">\n",
       "      <th></th>\n",
       "      <th>product_id</th>\n",
       "      <th>quantity</th>\n",
       "    </tr>\n",
       "  </thead>\n",
       "  <tbody>\n",
       "    <tr>\n",
       "      <th>0</th>\n",
       "      <td>27</td>\n",
       "      <td>20</td>\n",
       "    </tr>\n",
       "    <tr>\n",
       "      <th>1</th>\n",
       "      <td>56</td>\n",
       "      <td>18</td>\n",
       "    </tr>\n",
       "    <tr>\n",
       "      <th>2</th>\n",
       "      <td>24</td>\n",
       "      <td>15</td>\n",
       "    </tr>\n",
       "    <tr>\n",
       "      <th>3</th>\n",
       "      <td>74</td>\n",
       "      <td>15</td>\n",
       "    </tr>\n",
       "    <tr>\n",
       "      <th>4</th>\n",
       "      <td>41</td>\n",
       "      <td>14</td>\n",
       "    </tr>\n",
       "    <tr>\n",
       "      <th>5</th>\n",
       "      <td>34</td>\n",
       "      <td>13</td>\n",
       "    </tr>\n",
       "    <tr>\n",
       "      <th>6</th>\n",
       "      <td>94</td>\n",
       "      <td>13</td>\n",
       "    </tr>\n",
       "    <tr>\n",
       "      <th>7</th>\n",
       "      <td>66</td>\n",
       "      <td>13</td>\n",
       "    </tr>\n",
       "    <tr>\n",
       "      <th>8</th>\n",
       "      <td>92</td>\n",
       "      <td>12</td>\n",
       "    </tr>\n",
       "    <tr>\n",
       "      <th>9</th>\n",
       "      <td>50</td>\n",
       "      <td>12</td>\n",
       "    </tr>\n",
       "  </tbody>\n",
       "</table>\n",
       "</div>"
      ],
      "text/plain": [
       "   product_id  quantity\n",
       "0          27        20\n",
       "1          56        18\n",
       "2          24        15\n",
       "3          74        15\n",
       "4          41        14\n",
       "5          34        13\n",
       "6          94        13\n",
       "7          66        13\n",
       "8          92        12\n",
       "9          50        12"
      ]
     },
     "execution_count": 8,
     "metadata": {},
     "output_type": "execute_result"
    }
   ],
   "source": [
    "# Найдем топ-10 товаров по числу проданных единиц за всё время\n",
    "\n",
    "quantity_per_product = (main_df.groupby('product_id', as_index = False)\n",
    "                        .quantity\n",
    "                        .sum()\n",
    "                        .sort_values(by='quantity', ascending=False)\n",
    "                        .iloc[0:10]\n",
    "                        .reset_index(drop=True)\n",
    ")\n",
    "quantity_per_product"
   ]
  },
  {
   "cell_type": "code",
   "execution_count": 24,
   "metadata": {},
   "outputs": [
    {
     "data": {
      "text/plain": [
       "<matplotlib.axes._subplots.AxesSubplot at 0x7fe4fefae780>"
      ]
     },
     "execution_count": 24,
     "metadata": {},
     "output_type": "execute_result"
    },
    {
     "data": {
      "image/png": "[encoded data removed]",
      "text/plain": [
       "<Figure size 504x360 with 1 Axes>"
      ]
     },
     "metadata": {
      "needs_background": "light"
     },
     "output_type": "display_data"
    }
   ],
   "source": [
    "# Визуализируем полученный результат\n",
    "\n",
    "plt.figure(figsize=(7, 5))\n",
    "sns.barplot(x='product_id', y='quantity', data=quantity_per_product, color='blue', alpha=0.7, order=quantity_per_product.product_id)"
   ]
  },
  {
   "cell_type": "code",
   "execution_count": 32,
   "metadata": {},
   "outputs": [
    {
     "data": {
      "text/plain": [
       "<matplotlib.axes._subplots.AxesSubplot at 0x7fe4fea0cf60>"
      ]
     },
     "execution_count": 32,
     "metadata": {},
     "output_type": "execute_result"
    },
    {
     "data": {
      "image/png": "[encoded data removed]",
      "text/plain": [
       "<Figure size 648x360 with 1 Axes>"
      ]
     },
     "metadata": {
      "needs_background": "light"
     },
     "output_type": "display_data"
    }
   ],
   "source": [
    "# Также посмотрим на продажи по дням и визуализируем их\n",
    "\n",
    "sales_per_day = (main_df.groupby('date', as_index=False)\n",
    "                 .quantity\n",
    "                 .sum()\n",
    ")\n",
    "\n",
    "plt.figure(figsize=(9,5))\n",
    "sns.barplot(data=sales_per_day, x='date', y='quantity')"
   ]
  },
  {
   "cell_type": "code",
   "execution_count": 52,
   "metadata": {},
   "outputs": [
    {
     "data": {
      "text/plain": [
       "2"
      ]
     },
     "execution_count": 52,
     "metadata": {},
     "output_type": "execute_result"
    }
   ],
   "source": [
    "# Найдем количество пользователей, которые приобрели один и тот же товар повторно (одинаковый product_id в разные дни)\n",
    "\n",
    "# Сначала удалим дупликаты по имении, продукты и дате\n",
    "main_df_no_duplicates = main_df.drop_duplicates(subset=['name', 'product_id', 'date'])\n",
    "main_df_no_duplicates.head(10)\n",
    "\n",
    "# Сделаем датафрейм с повторными покупками, для кадого пользователя\n",
    "uniq_purchases_df = (main_df_no_duplicates.groupby(['name', 'product_id'], as_index=False )\n",
    "                           .date\n",
    "                           .count()\n",
    "                    )\n",
    "\n",
    "# Посчитаем сколько пользователей сделали более 1 повторной покупки\n",
    "uniq_purchases_n = uniq_purchases_df.loc[uniq_purchases_df.date >= 2].shape[0]\n",
    "uniq_purchases_n"
   ]
  },
  {
   "cell_type": "code",
   "execution_count": 55,
   "metadata": {},
   "outputs": [
    {
     "data": {
      "text/plain": [
       "name          product_id\n",
       "Anton_Ivanov  15            2\n",
       "Petr_Fedorov  94            2\n",
       "Name: date, dtype: int64"
      ]
     },
     "execution_count": 55,
     "metadata": {},
     "output_type": "execute_result"
    }
   ],
   "source": [
    "# более простой способ решить предыдущую задачу:\n",
    "\n",
    "same_product = main_df.groupby(['name', 'product_id']).date.nunique()\n",
    "same_product.loc[same_product > 1]"
   ]
  }
 ],
 "metadata": {
  "kernelspec": {
   "display_name": "Python 3",
   "language": "python",
   "name": "python3"
  },
  "language_info": {
   "codemirror_mode": {
    "name": "ipython",
    "version": 3
   },
   "file_extension": ".py",
   "mimetype": "text/x-python",
   "name": "python",
   "nbconvert_exporter": "python",
   "pygments_lexer": "ipython3",
   "version": "3.7.3"
  }
 },
 "nbformat": 4,
 "nbformat_minor": 4
}
